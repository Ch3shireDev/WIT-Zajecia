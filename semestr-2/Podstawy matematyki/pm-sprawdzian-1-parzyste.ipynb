{
 "cells": [
  {
   "cell_type": "markdown",
   "metadata": {},
   "source": [
    "# Podstawy Matematyki, kolokwium 1, parzyste\n",
    "\n",
    "## Zadanie 1\n",
    "![](./data/zad1.png)"
   ]
  },
  {
   "cell_type": "markdown",
   "metadata": {},
   "source": [
    "### Rozwiązanie\n",
    "\n",
    "1. Stawiamy warunek całego zdania jako fałszywe. Oznacza to że mamy przypadek $1 \\Rightarrow 0$. Zatem $r = 0$, a $[(p\\lor q)\\land r] = 1$. Dalej, prowadzi to do stwierdzenia że $(p\\lor q)\\land r = 1$, co jest niemożliwe, ponieważ r = 0, a koniunkcja z zerem jest zawsze fałszywa. Zatem nie ma rozwiązań tego równania.\n",
    "    \n",
    "2. Negacja zdania. $\\neg(A \\Rightarrow B) = A\\land \\neg B$, zatem:\n",
    "\n",
    "    $\\neg ([(p\\lor q)\\land r]\\Rightarrow r) = [(p\\lor q)\\land r] \\land \\neg r$\n",
    "    "
   ]
  },
  {
   "cell_type": "markdown",
   "metadata": {},
   "source": [
    "## Zadanie 2\n",
    "![](./data/zad2.png)"
   ]
  },
  {
   "cell_type": "markdown",
   "metadata": {},
   "source": [
    "### Rozwiązanie\n",
    "\n",
    "a) prawda, bo dla n = 1 jest spełnione\n",
    "\n",
    "b) nieprawda, bo dla t = 1 równanie jest nieprawdziwe\n",
    "\n",
    "c) prawda, bo dla każdego t istnieje wystarczająco duże n, np. sufit z t+5 (lub 1 jeśli t+5 jest ujemne)\n",
    "\n",
    "d) prawda, jeśli weźmiemy t = -5, to każda liczba naturalna będzie większa niż 5+t."
   ]
  },
  {
   "cell_type": "markdown",
   "metadata": {},
   "source": [
    "## Zadanie 3\n",
    "\n",
    "![](./data/zad3.png)"
   ]
  },
  {
   "cell_type": "markdown",
   "metadata": {},
   "source": [
    "### Rozwiązanie\n",
    "\n",
    "a) twierdzenie odwrotne ($B\\Rightarrow A$): jeśli $x^2 < 4$, to $x$ jest mniejsza niż 2. Twierdzenie jest prawdziwe, bo - jeśli x jest większy lub równy od 2, to automatycznie $x^2$ będzie większy lub równy niż 4.\n",
    "\n",
    "b) twierdzenie przeciwstawne $(\\neg B\\Rightarrow \\neg A)$: jeśli $x^2\\geq 2$ to $x\\geq 2$. Nieprawda, bo dla x = -3 prawda implikuje fałsz."
   ]
  },
  {
   "cell_type": "markdown",
   "metadata": {},
   "source": [
    "## Zadanie 4\n",
    "\n",
    "![](./data/zad4.png)"
   ]
  },
  {
   "cell_type": "markdown",
   "metadata": {},
   "source": [
    "### Rozwiązanie\n",
    "\n",
    "![](./data/xx.png)\n",
    "\n",
    "Przykład - dowolne trzy zbiory, np. $A = \\{a\\}, B=\\{b\\}, C=\\{c\\}$"
   ]
  },
  {
   "cell_type": "markdown",
   "metadata": {},
   "source": [
    "## Zadanie 5\n",
    "\n",
    "![](./data/zad5.png)\n",
    "![](./data/rozw.png)"
   ]
  }
 ],
 "metadata": {
  "kernelspec": {
   "display_name": "Python 3",
   "language": "python",
   "name": "python3"
  },
  "language_info": {
   "codemirror_mode": {
    "name": "ipython",
    "version": 3
   },
   "file_extension": ".py",
   "mimetype": "text/x-python",
   "name": "python",
   "nbconvert_exporter": "python",
   "pygments_lexer": "ipython3",
   "version": "3.8.2"
  }
 },
 "nbformat": 4,
 "nbformat_minor": 4
}
