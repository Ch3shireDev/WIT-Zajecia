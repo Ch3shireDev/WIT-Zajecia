{
 "cells": [
  {
   "cell_type": "markdown",
   "metadata": {
    "slideshow": {
     "slide_type": "slide"
    }
   },
   "source": [
    "# Introduction to Python Statements\n",
    "\n",
    "* Quick overview of Python Statements.\n",
    "* Emphasize differences between Python and other languages. \n",
    "  1. If you are coming from a different language this will rapidly accelerate your understanding of Python.\n",
    "  2. Learning about statements will allow you to be able to read other languages more easily in the future."
   ]
  },
  {
   "cell_type": "markdown",
   "metadata": {
    "slideshow": {
     "slide_type": "slide"
    }
   },
   "source": [
    "## Python vs Other Languages\n",
    "\n",
    "Let's create a simple statement that says:  \n",
    "__\"If a is greater than b, assign 2 to a and 4 to b\"__\n",
    "\n",
    "**\"Other Language\"**\n",
    "```\n",
    "if (a>b){\n",
    "  a = 2;\n",
    "  b = 4;\n",
    "}\n",
    "```\n",
    "                        \n",
    "**Python**   \n",
    "\n",
    "```python  \n",
    "if a>b:  \n",
    "    a = 2  \n",
    "    b = 4  \n",
    "```"
   ]
  },
  {
   "cell_type": "markdown",
   "metadata": {},
   "source": [
    "# Main differences:\n",
    "## Python is less cluttered and much more readable than the \"Other Lanfuage\".\n",
    "1. Lack of : <code>(, ),  {, }, begin, end</code> used to denote blocks of statement in other languages.  \n",
    "\n",
    "\n",
    "2. Incorporating two main factors:\n",
    " * Statements are ended with a colon <code>:</code>. \n",
    " * Whitespaces <code>   </code> are used as \"indentation\" to designate nested blocks of commands.  \n",
    "\n",
    "\n",
    "3. Lack of semicolons <code>;</code> used to denote statement endings in other languages:\n",
    " * The end of a line is the same as the end of a statement\n",
    " * semicolons are used to denote statement endings in many other languages, but in Python, t.\n",
    "\n",
    "## Python is heavily driven by code indentation and whitespaces.\n",
    "    * This means that code readability is a core part of the design of the Python language."
   ]
  },
  {
   "cell_type": "markdown",
   "metadata": {},
   "source": [
    "# <font color=\"red\">I n d e n t a t i o n</font>\n",
    "\n",
    "It is important to keep a good understanding of how indentation works in Python to maintain the structure and order of your code. We will touch on this topic again when we start building out functions!"
   ]
  },
  {
   "cell_type": "markdown",
   "metadata": {},
   "source": [
    "--- \n",
    "# Python Code Flow Controll Statements\n",
    "* ## Decision Making Statements\n",
    "  1. <code>if</code>\n",
    "  2. <code>if-else</code>\n",
    "  3. <code>if-elif-...-elif-else</code>\n",
    "  4. Nested <code>if</code> \n",
    "  \n",
    "* ## for Loops\n",
    "   <code>for</code>\n",
    "\n",
    "* ## while Loops\n",
    "   <code>while</code>  \n",
    "   <code>while-else</code>\n",
    "   \n",
    "* ## Loop sequence control\n",
    "   <code>break</code>  \n",
    "   <code>continue</code>\n"
   ]
  },
  {
   "cell_type": "markdown",
   "metadata": {},
   "source": [
    " ---\n",
    " # Decision Making Statements\n",
    "\n",
    "* <code>if</code> Statements in Python allows us to tell the computer to perform alternative actions based on a certain set of results.\n",
    "\n",
    "<img src=\"_images/if-elif-else.jpg\" align=\"left\"/>\n",
    "\n",
    "Verbally, we can imagine we are telling the computer:\n",
    " * **\"Hey if this case happens, perform some action\"**\n",
    " * **\"Hey if this case happens, perform some action. Else, if another case happens, perform some other action. Else, if *none* of the above cases happened, perform this action.\"**\n",
    "\n",
    "* The syntax format for <code>if</code>:\n",
    "```python\n",
    "if binaryExpression:  \n",
    "    _action_  \n",
    "elif binaryExpression2:  \n",
    "    action2  \n",
    "else:  \n",
    "    action\n",
    "```    "
   ]
  },
  {
   "cell_type": "code",
   "execution_count": null,
   "metadata": {},
   "outputs": [],
   "source": [
    "# IF example\n",
    "\n"
   ]
  },
  {
   "cell_type": "code",
   "execution_count": null,
   "metadata": {},
   "outputs": [],
   "source": [
    "# IF - ELSE example\n",
    "\n"
   ]
  },
  {
   "cell_type": "markdown",
   "metadata": {},
   "source": [
    "### Multiple Branches\n",
    "\n",
    "* Reintroduce a comparison syntax for Python.\n",
    "* Write this out in a nested structure. \n",
    "* Take note of how the <code>if</code>, <code>elif</code>, and <code>else</code> line up in the code. \n",
    "* This can help you see what <code>if</code> is related to what <code>elif</code> or <code>else</code> statements.\n",
    "\n",
    "### Indentation\n",
    " * It is important to keep a good understanding of how indentation works in Python to maintain the structure and order of your code.\n"
   ]
  },
  {
   "cell_type": "code",
   "execution_count": null,
   "metadata": {},
   "outputs": [],
   "source": []
  },
  {
   "cell_type": "markdown",
   "metadata": {},
   "source": [
    " # for loops\n",
    "\n",
    "*  <code>for</code> loop acts as an iterator in Python.\n",
    "\n",
    "<img src=\"_images/for-loop.jpg\" align=\"left\"/>\n",
    "\n",
    "* Goes through items that are in a *sequence* or any other iterable item. \n",
    "* Objects that we've learned about that we can iterate over include strings, lists, tuples, and even built-in iterables for dictionaries, such as keys or values.\n",
    "\n",
    "* The syntax format for <code>for</code>:\n",
    "```python\n",
    "for item in iterable:\n",
    "        statements to do stuff\n",
    "```    \n",
    "* The variable name used for the <code>item</code> is completely up to the coder.\n",
    "* Use your best judgment for choosing a name that makes sense and you will be able to understand when revisiting your code. \n",
    "* This item name can then be referenced inside your loop,  \n",
    "for example if you wanted to use <font color=\"green\">**if**</font> statements to perform checks."
   ]
  },
  {
   "cell_type": "markdown",
   "metadata": {},
   "source": [
    "### Iterating through a list"
   ]
  },
  {
   "cell_type": "code",
   "execution_count": null,
   "metadata": {},
   "outputs": [],
   "source": [
    "# define simply list\n"
   ]
  },
  {
   "cell_type": "code",
   "execution_count": null,
   "metadata": {},
   "outputs": [],
   "source": [
    "# iterate through the list elements\n",
    "  "
   ]
  },
  {
   "cell_type": "markdown",
   "metadata": {},
   "source": [
    "### Even number recognition"
   ]
  },
  {
   "cell_type": "code",
   "execution_count": null,
   "metadata": {},
   "outputs": [],
   "source": [
    "# The modulo allows us to get the remainder in a division and uses the % symbol. \n",
    "# 17 divided by 5 is equal to 3 with remainder 2.\n"
   ]
  },
  {
   "cell_type": "code",
   "execution_count": null,
   "metadata": {},
   "outputs": [],
   "source": [
    "# simple loop\n"
   ]
  },
  {
   "cell_type": "code",
   "execution_count": null,
   "metadata": {},
   "outputs": [],
   "source": [
    "# \"Sophisticated\" loop logic using the if-else condition\n"
   ]
  },
  {
   "cell_type": "markdown",
   "metadata": {},
   "source": [
    "### create a <code>for</code> loop that sums up the list"
   ]
  },
  {
   "cell_type": "code",
   "execution_count": null,
   "metadata": {},
   "outputs": [],
   "source": [
    "# First example (standard version)\n",
    "\n",
    "# Initialization of the sum result variable\n"
   ]
  },
  {
   "cell_type": "code",
   "execution_count": null,
   "metadata": {},
   "outputs": [],
   "source": [
    "# Second example (python version)\n"
   ]
  },
  {
   "cell_type": "markdown",
   "metadata": {},
   "source": [
    "### Use <code>for</code> loops with string?  \n",
    "Remember strings are a sequence so when we iterate through them we will be accessing each item in that string."
   ]
  },
  {
   "cell_type": "code",
   "execution_count": null,
   "metadata": {},
   "outputs": [],
   "source": []
  },
  {
   "cell_type": "markdown",
   "metadata": {},
   "source": [
    "### Use <code>for</code> loops with a tuple"
   ]
  },
  {
   "cell_type": "code",
   "execution_count": null,
   "metadata": {},
   "outputs": [],
   "source": []
  },
  {
   "cell_type": "markdown",
   "metadata": {},
   "source": [
    "### Use <code>for</code> loops with a list of tuples\n",
    "* Tuples have a special quality when it comes to <code>for</code> loops.  \n",
    "* Iterating through a sequence that contains tuples:  \n",
    "  * **tuple unpacking**.  \n",
    "  * During the <code>for</code> loop we can  \n",
    "   * unpack the tuple inside of a sequence\n",
    "   * access the individual items inside that tuple.  \n",
    "   \n",
    "### <font color=\"red\">Important because many objects will deliver their iterables through tuples.</font>"
   ]
  },
  {
   "cell_type": "code",
   "execution_count": null,
   "metadata": {},
   "outputs": [],
   "source": [
    "# Create a list of tuples\n"
   ]
  },
  {
   "cell_type": "code",
   "execution_count": null,
   "metadata": {},
   "outputs": [],
   "source": [
    "# simple loop\n"
   ]
  },
  {
   "cell_type": "code",
   "execution_count": null,
   "metadata": {},
   "outputs": [],
   "source": [
    "# Loop with tuple unpacking!\n"
   ]
  },
  {
   "cell_type": "code",
   "execution_count": null,
   "metadata": {},
   "outputs": [],
   "source": [
    "# Loop with tuple unpacking!\n"
   ]
  },
  {
   "cell_type": "code",
   "execution_count": null,
   "metadata": {},
   "outputs": [],
   "source": [
    "# Loop with tuple unpacking!\n"
   ]
  },
  {
   "cell_type": "markdown",
   "metadata": {},
   "source": [
    "### Use <code>for</code> loops with a dictionary\n",
    "\n",
    "* Use three Dictionary methods:\n",
    " * <code>**.keys()**</code> - Read the keys?  \n",
    " * <code>**.values()**</code> - Read the values?  \n",
    " * <code>**.items()**</code> - Read both the keys and the values? \n",
    "  \n",
    "  \n",
    "* In Python each of these methods return a *dictionary view object*.  \n",
    " * it is only a view\n",
    " * supports operations like membership test and iteration,\n",
    " * contents are not independent of the original dictionary."
   ]
  },
  {
   "cell_type": "code",
   "execution_count": null,
   "metadata": {},
   "outputs": [],
   "source": [
    "# Create a dictionary\n"
   ]
  },
  {
   "cell_type": "code",
   "execution_count": null,
   "metadata": {},
   "outputs": [],
   "source": [
    "#Key iteration (only)\n"
   ]
  },
  {
   "cell_type": "code",
   "execution_count": null,
   "metadata": {},
   "outputs": [],
   "source": [
    "# Create a dictionary view object\n"
   ]
  },
  {
   "cell_type": "code",
   "execution_count": null,
   "metadata": {},
   "outputs": [],
   "source": []
  },
  {
   "cell_type": "code",
   "execution_count": null,
   "metadata": {},
   "outputs": [],
   "source": [
    "# Dictionary unpacking\n"
   ]
  },
  {
   "cell_type": "markdown",
   "metadata": {},
   "source": [
    "#### **cast** the view as a list  \n",
    "to obtain a true list of keys, values, or key/value tuples"
   ]
  },
  {
   "cell_type": "code",
   "execution_count": null,
   "metadata": {},
   "outputs": [],
   "source": [
    "# The list of keys\n"
   ]
  },
  {
   "cell_type": "code",
   "execution_count": null,
   "metadata": {},
   "outputs": [],
   "source": [
    "# sorted list of values\n"
   ]
  },
  {
   "cell_type": "markdown",
   "metadata": {},
   "source": [
    " ---\n",
    "# while loop\n",
    "\n",
    "* <code>while</code> Statement in Python s one of most general ways to perform iteration.\n",
    "\n",
    "<img src=\"_images/while-loop.jpg\" align=\"left\"/>\n",
    "\n",
    "A while statement will repeatedly execute a single statement or group of statements as long as the condition is true.  \n",
    "The reason it is called a 'loop' is because the code statements are looped through over and over again until the condition is no longer met.\n",
    "\n",
    "* The syntax format for <code>while</code>:\n",
    "```python\n",
    "while test:\n",
    "    code statements\n",
    "else:\n",
    "    final code statements\n",
    "```    "
   ]
  },
  {
   "cell_type": "code",
   "execution_count": null,
   "metadata": {},
   "outputs": [],
   "source": [
    "# Simple while-loop example\n",
    "# Notice how many times the print statements occurred\n",
    "# ... while the True condition was met\n",
    " "
   ]
  },
  {
   "cell_type": "code",
   "execution_count": null,
   "metadata": {},
   "outputs": [],
   "source": [
    "#  see how we could add an else statement:\n",
    "\n"
   ]
  },
  {
   "cell_type": "markdown",
   "metadata": {},
   "source": [
    " ---\n",
    " # Loop sequence control\n",
    "\n",
    "Use additional statements in loops to add additional functionality for various cases.  \n",
    "\n",
    "<img src=\"_images/break-continue.jpg\" align=\"left\"/>\n",
    "\n",
    "* <code>pass</code> - Does nothing at all.  \n",
    "* <code>break</code> -Breaks out of the current closest enclosing loop.  \n",
    "* <code>continue</code> - Goes to the top of the closest enclosing loop.  \n",
    "\n",
    " \n",
    "<code>break</code> and <code>continue</code> statements can appear anywhere inside the loop’s body,  \n",
    "but we will usually put them further nested in conjunction with an <code>if</code> statement to perform an action based on some condition.\n",
    "\n",
    "* The syntax format for <code>if</code>:\n",
    "```python\n",
    "    while test: \n",
    "        code statement\n",
    "        if test: \n",
    "            break\n",
    "        code statement  \n",
    "        if test: \n",
    "            continue \n",
    "        code statement            \n",
    "    else:\n",
    "```    "
   ]
  },
  {
   "cell_type": "markdown",
   "metadata": {},
   "source": [
    "### Use <code>pass</code> as a filler (placeholder)\n",
    "\n",
    "  ... implementing a larger piece of code ...  \n",
    "  ... we are not shure what to do next ...  \n",
    "  ... but parser expects some code?  "
   ]
  },
  {
   "cell_type": "code",
   "execution_count": null,
   "metadata": {},
   "outputs": [],
   "source": [
    "# SYNTAX ERROR !!!\n"
   ]
  },
  {
   "cell_type": "code",
   "execution_count": null,
   "metadata": {},
   "outputs": [],
   "source": [
    "# pass keyword says \"do nothing at all\"\n",
    "# to avoid syntax errors\n",
    " "
   ]
  },
  {
   "cell_type": "markdown",
   "metadata": {},
   "source": [
    "### Use <code>continue</code> to go to the top of the closest inclosing loop\n",
    "Be aware of it but don't worry about use cases "
   ]
  },
  {
   "cell_type": "code",
   "execution_count": null,
   "metadata": {},
   "outputs": [],
   "source": []
  },
  {
   "cell_type": "markdown",
   "metadata": {},
   "source": [
    "### Use <code>break</code> to break out of the current (closest closing) loop\n",
    "Be aware of it but don't worry about use cases "
   ]
  },
  {
   "cell_type": "code",
   "execution_count": null,
   "metadata": {},
   "outputs": [],
   "source": [
    "  "
   ]
  },
  {
   "cell_type": "code",
   "execution_count": null,
   "metadata": {},
   "outputs": [],
   "source": []
  },
  {
   "cell_type": "code",
   "execution_count": null,
   "metadata": {},
   "outputs": [],
   "source": []
  }
 ],
 "metadata": {
  "kernelspec": {
   "display_name": "Python 3",
   "language": "python",
   "name": "python3"
  },
  "language_info": {
   "codemirror_mode": {
    "name": "ipython",
    "version": 3
   },
   "file_extension": ".py",
   "mimetype": "text/x-python",
   "name": "python",
   "nbconvert_exporter": "python",
   "pygments_lexer": "ipython3",
   "version": "3.7.7"
  }
 },
 "nbformat": 4,
 "nbformat_minor": 1
}
