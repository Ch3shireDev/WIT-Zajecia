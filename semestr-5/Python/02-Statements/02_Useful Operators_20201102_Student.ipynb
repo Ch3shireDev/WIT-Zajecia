{
 "cells": [
  {
   "cell_type": "markdown",
   "metadata": {},
   "source": [
    "# Useful Operators\n",
    "\n",
    "Built-in functions and \"operators\" that don't fit well into any category.\n",
    "* ### <code>range</code>(  _start_,  _stop_, _step_ )\n",
    " - allows to quickly generate a list of integers.  \n",
    "   - from **start** (including)  \n",
    "   - to **stop** (NOT including) \n",
    " \n",
    "  1. Iterate through it, using a keyword <code>range</code>.\n",
    "  2. Use it as a <code>generator</code>.  \n",
    "     - special type of functions,  \n",
    "     - <font color=\"red\">generate information instead of saving it all to memory.</font>\n",
    " \n",
    "\n",
    "* ### <code>enumerate</code> (  __iterable__ )\n",
    " . Useful function to use with **for loops**.  \n",
    " . Automatically generate a loop repetition counter\n",
    " \n",
    "* ### <code>zip</code> (  _list1_, _list2_, ...  )\n",
    " . Transforming subsequent objects of source lists into a list of tuples.  \n",
    " . Works similar to the <code>enumerate</code> function\n",
    " \n",
    "* ### <code>in</code> _iterable_\n",
    " . **Operator:**  Check if an object is in a list.  \n",
    " . <font color=\"red\">Not keyword durng the for loop!</font>  \n",
    " \n",
    "* ### <code>min</code> , <code>max</code>  (  _list_ )\n",
    " . Quickly check the minimum or maximum of a list  \n",
    " \n",
    "* ### <code>input</code> (  _string_ )\n",
    " . Ask user to input something using console and return this back to the program as a **string**   \n",
    " \n",
    "## RANDOM _library_\n",
    "    . Python comes with a built in random library.  \n",
    "    .... there are a lot of procedures and functions  \n",
    "* ###  shuffle\n",
    " . <code>shuffle</code> (  _list_ )  \n",
    " . Shuffles the list \"in-place\".  \n",
    " . <font color=\"red\">Returns NOTHING !</font>\n",
    " \n",
    "* ###  randint\n",
    " . <code>randint</code> (  _lowerLimit_ , _upperLimit_ )  \n",
    " . Returns random integer from the given range <font color=\"red\">(including both limits)</font>.\n",
    "\n",
    "# List Comprehensions\n",
    "\n",
    "    . Advanced operations:\n",
    "- allow to build out lists using a different notation\n",
    "- essentially a one line <code>for</code> loop built inside of brackets <code>[ ]</code>\n",
    "  - use <code>range()</code>\n",
    "  - use <code>if </code>\n",
    "* looks similar to mathematical notation <code>x^2 : x in { 0,1,2...10 }</code>"
   ]
  },
  {
   "cell_type": "markdown",
   "metadata": {},
   "source": [
    "---\n",
    "# range\n",
    "   . <code>range</code>(  _start_,  _stop_, _step_ )  \n",
    "   . allows to quickly generate a list of integers.  \n",
    "     . from **start** (including)  \n",
    "     . to **stop** (NOT including) "
   ]
  },
  {
   "cell_type": "markdown",
   "metadata": {},
   "source": [
    "Notice that often we are creating lists that are just a series of integers as 1 2 3 .....  \n",
    "Python actually has a built in operator for this.  \n",
    "There are two ways of using it:\n",
    "#### 1. Iterate through it, using a keyword <code>range</code>."
   ]
  },
  {
   "cell_type": "code",
   "execution_count": null,
   "metadata": {
    "scrolled": true
   },
   "outputs": [],
   "source": []
  },
  {
   "cell_type": "code",
   "execution_count": null,
   "metadata": {},
   "outputs": [],
   "source": []
  },
  {
   "cell_type": "code",
   "execution_count": null,
   "metadata": {},
   "outputs": [],
   "source": []
  },
  {
   "cell_type": "markdown",
   "metadata": {},
   "source": [
    "#### 2.  Use it as a <code>generator</code>.\n",
    "  . Special type of functions.  \n",
    "  . Generate information instead of saving it all to memory."
   ]
  },
  {
   "cell_type": "code",
   "execution_count": null,
   "metadata": {},
   "outputs": [],
   "source": []
  },
  {
   "cell_type": "code",
   "execution_count": null,
   "metadata": {},
   "outputs": [],
   "source": [
    "# Create list of numbers using a generator\n",
    "# to get a list out of it, we need to cast it to a list with.\n",
    "\n"
   ]
  },
  {
   "cell_type": "markdown",
   "metadata": {},
   "source": [
    "---\n",
    "# enumerate\n",
    " . <code>enumerate</code> (  _iterable_ )  \n",
    " . Useful function to use with **for loops**.  \n",
    " . Automatically generate a loop repetition counter"
   ]
  },
  {
   "cell_type": "code",
   "execution_count": null,
   "metadata": {},
   "outputs": [],
   "source": [
    "#Tracking the number of loops completed is so common in programming ...  \n",
    "# Set a variable equal to zero\n",
    "pointer = 0\n",
    "\n",
    "# Loop through  a string\n"
   ]
  },
  {
   "cell_type": "code",
   "execution_count": null,
   "metadata": {},
   "outputs": [],
   "source": [
    "mystring = 'abcd'\n",
    "pointer = 0\n",
    "# Loop through  a string\n"
   ]
  },
  {
   "cell_type": "markdown",
   "metadata": {},
   "source": [
    "<code>enumerate</code> was created to automatically generate a loop repetition counter"
   ]
  },
  {
   "cell_type": "code",
   "execution_count": null,
   "metadata": {},
   "outputs": [],
   "source": [
    "# Notice the tuple unpacking!\n",
    "\n"
   ]
  },
  {
   "cell_type": "code",
   "execution_count": null,
   "metadata": {},
   "outputs": [],
   "source": []
  },
  {
   "cell_type": "code",
   "execution_count": null,
   "metadata": {},
   "outputs": [],
   "source": []
  },
  {
   "cell_type": "markdown",
   "metadata": {},
   "source": [
    "---\n",
    "# zip\n",
    " . <code>zip</code> (  _list1_, _list2_, ... )  \n",
    " . Transforming subsequent objects of source lists into a list of tuples.  \n",
    " . Works similar to the <code>enumerate</code> function"
   ]
  },
  {
   "cell_type": "code",
   "execution_count": null,
   "metadata": {},
   "outputs": [],
   "source": []
  },
  {
   "cell_type": "markdown",
   "metadata": {},
   "source": [
    "It was a list of tuples, meaning we could use tuple unpacking during our for loop. This data structure is actually very common in Python , especially when working with outside libraries. You can use the **zip()** function to quickly create a list of tuples by \"zipping\" up together two lists."
   ]
  },
  {
   "cell_type": "code",
   "execution_count": null,
   "metadata": {},
   "outputs": [],
   "source": []
  },
  {
   "cell_type": "code",
   "execution_count": null,
   "metadata": {},
   "outputs": [],
   "source": [
    "# This one is also a generator! We will explain this later, but for now let's transform it to a list\n"
   ]
  },
  {
   "cell_type": "code",
   "execution_count": null,
   "metadata": {},
   "outputs": [],
   "source": []
  },
  {
   "cell_type": "markdown",
   "metadata": {},
   "source": [
    "To use the generator, we could just use a for loop"
   ]
  },
  {
   "cell_type": "code",
   "execution_count": null,
   "metadata": {
    "scrolled": false
   },
   "outputs": [],
   "source": []
  },
  {
   "cell_type": "code",
   "execution_count": null,
   "metadata": {},
   "outputs": [],
   "source": [
    "# What happens if these lists are uneven?\n"
   ]
  },
  {
   "cell_type": "code",
   "execution_count": null,
   "metadata": {},
   "outputs": [],
   "source": [
    "# What happens if these lists are uneven?\n"
   ]
  },
  {
   "cell_type": "code",
   "execution_count": null,
   "metadata": {},
   "outputs": [],
   "source": [
    "# Zip many lists together\n"
   ]
  },
  {
   "cell_type": "markdown",
   "metadata": {},
   "source": [
    "---\n",
    "# in\n",
    " . <code>in</code> _iterable_  \n",
    " . **Operator:**  Check if an object is in a list.  \n",
    " . <font color=\"red\">(Not the keyword durng the for loop!)</font>  "
   ]
  },
  {
   "cell_type": "code",
   "execution_count": null,
   "metadata": {},
   "outputs": [],
   "source": [
    "# with lists\n"
   ]
  },
  {
   "cell_type": "code",
   "execution_count": null,
   "metadata": {},
   "outputs": [],
   "source": []
  },
  {
   "cell_type": "code",
   "execution_count": null,
   "metadata": {},
   "outputs": [],
   "source": [
    "# with strings\n"
   ]
  },
  {
   "cell_type": "code",
   "execution_count": null,
   "metadata": {},
   "outputs": [],
   "source": [
    "# with dictionaries\n"
   ]
  },
  {
   "cell_type": "code",
   "execution_count": null,
   "metadata": {},
   "outputs": [],
   "source": []
  },
  {
   "cell_type": "code",
   "execution_count": null,
   "metadata": {},
   "outputs": [],
   "source": []
  },
  {
   "cell_type": "markdown",
   "metadata": {},
   "source": [
    "---\n",
    "# min , max\n",
    " . <code>min</code> , <code>max</code>  (  _list_ )  \n",
    " . Quickly check the minimum or maximum of a list "
   ]
  },
  {
   "cell_type": "code",
   "execution_count": null,
   "metadata": {},
   "outputs": [],
   "source": [
    "mylist = [131,10,273,20,30,40,100]\n"
   ]
  },
  {
   "cell_type": "code",
   "execution_count": null,
   "metadata": {},
   "outputs": [],
   "source": [
    "mylist = ['ospa','grypa','katar','tyfusik']\n"
   ]
  },
  {
   "cell_type": "code",
   "execution_count": null,
   "metadata": {},
   "outputs": [],
   "source": [
    "mylist = [131,10,273,20,30,40,100,'ospa','grypa','katar','tyfusik']\n"
   ]
  },
  {
   "cell_type": "markdown",
   "metadata": {},
   "source": [
    "---\n",
    "# input\n",
    " . <code>input</code> (  _string_ )  \n",
    " . Ask user to input something using console and return this back to the program as a **string**.   "
   ]
  },
  {
   "cell_type": "code",
   "execution_count": null,
   "metadata": {},
   "outputs": [],
   "source": []
  },
  {
   "cell_type": "code",
   "execution_count": null,
   "metadata": {},
   "outputs": [],
   "source": []
  },
  {
   "cell_type": "markdown",
   "metadata": {},
   "source": [
    "---\n",
    "# RANDOM _library_\n",
    "    . Python comes with a built in random library.  \n",
    "    . There are a lot of procedures and functions ..."
   ]
  },
  {
   "cell_type": "markdown",
   "metadata": {},
   "source": [
    "---\n",
    "* ##  shuffle\n",
    " . <code>shuffle</code> (  _list_ )  \n",
    " . Shuffles the list \"in-place\".  \n",
    " . <font color=\"red\">Returns NOTHING !</font>"
   ]
  },
  {
   "cell_type": "code",
   "execution_count": null,
   "metadata": {},
   "outputs": [],
   "source": [
    "# type:\n",
    "from random import  \n",
    "# and hit [shift][TAB]"
   ]
  },
  {
   "cell_type": "code",
   "execution_count": null,
   "metadata": {},
   "outputs": [],
   "source": []
  },
  {
   "cell_type": "code",
   "execution_count": null,
   "metadata": {},
   "outputs": [],
   "source": []
  },
  {
   "cell_type": "markdown",
   "metadata": {},
   "source": [
    "---\n",
    "* ##  randint\n",
    " . <code>randint</code> (  _lowerLimit_ , _upperLimit_ )  \n",
    " . Returns random integer from the given range <font color=\"red\">(including both limits)</font>. "
   ]
  },
  {
   "cell_type": "code",
   "execution_count": null,
   "metadata": {},
   "outputs": [],
   "source": [
    "from random import randint"
   ]
  },
  {
   "cell_type": "code",
   "execution_count": null,
   "metadata": {},
   "outputs": [],
   "source": [
    "# Return random integer in range [a, b], including both end points.\n"
   ]
  },
  {
   "cell_type": "code",
   "execution_count": null,
   "metadata": {},
   "outputs": [],
   "source": []
  },
  {
   "cell_type": "code",
   "execution_count": null,
   "metadata": {},
   "outputs": [],
   "source": [
    " "
   ]
  },
  {
   "cell_type": "markdown",
   "metadata": {},
   "source": [
    "---\n",
    "# List Comprehensions\n",
    " - Advanced operations  \n",
    " - allow to build out lists using a different notation  \n",
    " - essentially a one line <code>for</code> loop built inside of brackets <code>[ ]</code>  \n",
    "     . use <code>range()</code>  \n",
    "     . use <code>if </code>  \n",
    " - looks similar to mathematical notation <code>x^2 : x in { 0,1,2...10 }</code>  "
   ]
  },
  {
   "cell_type": "markdown",
   "metadata": {},
   "source": [
    "## Example 1\n",
    "'String' Comprehension"
   ]
  },
  {
   "cell_type": "code",
   "execution_count": null,
   "metadata": {},
   "outputs": [],
   "source": [
    "mystring = 'The quick brown fox jumps over the lazy dog.'"
   ]
  },
  {
   "cell_type": "code",
   "execution_count": null,
   "metadata": {},
   "outputs": [],
   "source": [
    "# Grab every letter in string\n"
   ]
  },
  {
   "cell_type": "code",
   "execution_count": null,
   "metadata": {},
   "outputs": [],
   "source": [
    "# Grab every letter in string\n"
   ]
  },
  {
   "cell_type": "markdown",
   "metadata": {},
   "source": [
    "## Example 2\n",
    "\"Numbers' Comprehension"
   ]
  },
  {
   "cell_type": "code",
   "execution_count": null,
   "metadata": {},
   "outputs": [],
   "source": [
    "# List of numbers in range\n"
   ]
  },
  {
   "cell_type": "code",
   "execution_count": null,
   "metadata": {},
   "outputs": [],
   "source": [
    "# List of square numbers in range\n"
   ]
  },
  {
   "cell_type": "markdown",
   "metadata": {},
   "source": [
    "## Example 3"
   ]
  },
  {
   "cell_type": "code",
   "execution_count": null,
   "metadata": {
    "scrolled": true
   },
   "outputs": [],
   "source": [
    "# List of even numbers in a range\n"
   ]
  },
  {
   "cell_type": "code",
   "execution_count": null,
   "metadata": {},
   "outputs": [],
   "source": [
    "# List of square even numbers in a range\n"
   ]
  },
  {
   "cell_type": "markdown",
   "metadata": {},
   "source": [
    "## Example 4\n",
    "'Conversion' Comprehension"
   ]
  },
  {
   "cell_type": "code",
   "execution_count": null,
   "metadata": {},
   "outputs": [],
   "source": [
    "# Convert Celsius to Fahrenheit \n",
    "celsius = [0,10,20.1,34.5]\n",
    "fahrenheit = []\n"
   ]
  },
  {
   "cell_type": "code",
   "execution_count": null,
   "metadata": {},
   "outputs": [],
   "source": [
    "# Convert Celsius to Fahrenheit (flatten version)\n",
    "celsius = [0,10,20.1,34.5]\n",
    "\n"
   ]
  },
  {
   "cell_type": "markdown",
   "metadata": {},
   "source": [
    "## Example 5\n",
    "'Nested' comprehension"
   ]
  },
  {
   "cell_type": "code",
   "execution_count": null,
   "metadata": {},
   "outputs": [],
   "source": [
    "#Nested list comprehension:\n",
    "\n"
   ]
  },
  {
   "cell_type": "code",
   "execution_count": null,
   "metadata": {},
   "outputs": [],
   "source": [
    "# multiply each x by every y\n",
    "mylist = []\n",
    "\n",
    "      "
   ]
  },
  {
   "cell_type": "code",
   "execution_count": null,
   "metadata": {},
   "outputs": [],
   "source": [
    "# list comprehension\n",
    "\n"
   ]
  },
  {
   "cell_type": "markdown",
   "metadata": {},
   "source": [
    "## Example 6\n",
    "'if-else' comprehension"
   ]
  },
  {
   "cell_type": "code",
   "execution_count": null,
   "metadata": {},
   "outputs": [],
   "source": [
    "# if-else statement in a list comprehension\n",
    "# ... but the syntax is a little different\n",
    "# do not do this, as it's hard to understand a month later \n",
    "\n"
   ]
  }
 ],
 "metadata": {
  "kernelspec": {
   "display_name": "Python 3",
   "language": "python",
   "name": "python3"
  },
  "language_info": {
   "codemirror_mode": {
    "name": "ipython",
    "version": 3
   },
   "file_extension": ".py",
   "mimetype": "text/x-python",
   "name": "python",
   "nbconvert_exporter": "python",
   "pygments_lexer": "ipython3",
   "version": "3.7.3"
  }
 },
 "nbformat": 4,
 "nbformat_minor": 2
}
