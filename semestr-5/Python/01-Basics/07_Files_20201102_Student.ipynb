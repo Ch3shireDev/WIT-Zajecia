{
 "cells": [
  {
   "cell_type": "markdown",
   "metadata": {},
   "source": [
    "# Python\n",
    "\n",
    "* Files"
   ]
  },
  {
   "cell_type": "markdown",
   "metadata": {},
   "source": [
    "# File objects\n",
    "\n",
    "* Interact with external files on computer. \n",
    "* Any sort of file \n",
    " * ... audio, text, emails, Excel documents, ...  \n",
    "\n",
    "\n",
    "* You will probably need to install certain libraries or modules to interact with various file types.\n",
    "* they are easily available.  \n",
    "\n",
    "\n",
    "* Python has a built-in open function that allows us to open and play with basic file types.  \n",
    "* In Jupyther, we can use some \"IPython magic\" to create a text file!"
   ]
  },
  {
   "cell_type": "markdown",
   "metadata": {},
   "source": [
    "## Open a file \n",
    "(simplified  )\n",
    "    \n",
    " ### file_object  = open( 'filename',  'mode' )  \n",
    " * `file_object` $\\;\\;$  - variable to keep created file object, \n",
    " * `filename` $\\;\\;\\;\\;\\;\\;$ - path & name of the file,\n",
    " * `mode`  $\\;\\;\\;\\;\\;\\;\\;\\;\\;\\;\\;$ - purpose of the file object,  \n",
    "  * `r`  - open file for reading __DEFAULT Mode__\n",
    "  * `w`  - open file for writing: __create__ if file does not exist, __truncate__ (erase) if exists.\n",
    "  * `x`  - similar to w , __FAILS__ if file does not exist \n",
    "    - programer will not accidentally truncate/overwrite an existing file.\n",
    "    - programer does not need to check for the existence of the file \n",
    "  * `a` - open file in append mode (to the end of file), __create__ if does not exist.\n",
    "  * `+` - open file for updating (reading & writing) \n",
    "  \n",
    "  * `b` - binary mode\n",
    "  * `t` - text mode (default)\n",
    " \n",
    " \n",
    "### Methods\n",
    " * __.read(__ _[number-of-characters]_ __)__ - read text file:\n",
    "  * _[number-of-characters]_ -the number of characters to read and return as a string.\n",
    "  * DEFAULT -Read the whole file\n",
    " * __.readline()__ - read a text file one line at a time: \n",
    " \n",
    " * __.write(__ _text_ __)__ - This method is used to add information or content to an existing file.\n",
    " * __.close()__ - close the file completely, terminating resources in use, in turn freeing them up for the system to deploy elsewhere. \n",
    " * __.seek(__ _offset [, whence]_  __)__ - Move the file read \"cursor\".\n",
    "   * No return value.\n",
    "   * _offset_ -The position of the read/write pointer within the file.\n",
    "    * If the file is opened in text mode 't', only offsets returned by tell() are legal. Use of other offsets causes undefined behavior.\n",
    "   * _whence_ -Optional:   \n",
    "    * 0 -Absolute file positioning. Jump to begining of file (DEFAULT)\n",
    "    * 1 -Seek relative to the current position\n",
    "    * 2 -Seek relative to the file's end\n",
    "   * If the file is opened for appending 'a', this method is a no-op. Any seek() operations will be undone at the next write.\n",
    "   * If the file is opened pened in append mode with reading enabled ('a+'), this method is useful."
   ]
  },
  {
   "cell_type": "markdown",
   "metadata": {},
   "source": [
    "# Examples"
   ]
  },
  {
   "cell_type": "markdown",
   "metadata": {},
   "source": [
    "### Read line by line\n",
    " * Example 1\n",
    "\n",
    "```python\n",
    " * ####  Looping over a file object\n",
    "    file = open('testfile.txt', 'r') \n",
    "for line in file: \n",
    "     print line ```\n",
    "     \n",
    " \n",
    " * Example 2\n",
    " \n",
    "```python\n",
    "def main():\n",
    "    # open the file & read the content line by line\n",
    "    f = open(\"test.txt\", \"r\")\n",
    "    # separate each line and present the file in a readable format\n",
    "    rlo - f.readlines()\n",
    "    for x in f1:\n",
    "        print(x)\n",
    "\n",
    "if __name__ == \"__main__\":\n",
    "    main()```"
   ]
  },
  {
   "cell_type": "markdown",
   "metadata": {},
   "source": [
    "### Create / Write\n",
    " * Example 1\n",
    " ```python\n",
    "fh = open(\"testfile.txt\",\"w\") \n",
    "fh.write(\"Hello World\") \n",
    "fh.write(\"This is our new text file\") \n",
    "fh.write(\"and this is another line.\") \n",
    "fh.write(\"Why? Because we can.\") \n",
    "fh.close() ```\n",
    "\n",
    " \n",
    " \n",
    " * Example 2\n",
    "```python\n",
    "fh = open('hello.txt','w') \n",
    "lines_of_text = ['One line of text here', 'and another line here', \n",
    "                 'and yet another here', 'and so on and so forth'] \n",
    "fh.writelines(lines_of_text) \n",
    "fh.close()```\n",
    "\n",
    " * Example 3\n",
    "```python\n",
    "f = open(\"test3.txt\",\"w+\")\n",
    "for i in range(10):\n",
    "     f.write(\"This is line %d\\r\\n\" % (i+1))\n",
    "f.close()\n",
    "```\n",
    "\n",
    " * Example 4\n",
    "```python\n",
    "  #No need to check for for the existence of the file.\n",
    "try:\n",
    "    with open(\"fname\", \"x\") as fout:\n",
    "        # Work with your open file\n",
    "except FileExistsError:\n",
    "    # Your error handling goes here\n",
    "    \n",
    "  # Have to check for for the existence of the file.\n",
    "import os.path\n",
    "if os.path.isfile(fname):\n",
    "    # Your error handling goes here\n",
    "else:\n",
    "    with open(\"fname\", \"w\") as fout:\n",
    "        # Work with your open file\n",
    "```"
   ]
  },
  {
   "cell_type": "markdown",
   "metadata": {},
   "source": [
    "### Read / Write\n",
    "\n",
    " * Example 1\n",
    " \n",
    "```python\n",
    "# Open a file\n",
    "fo = open(\"foo.txt\", \"rw+\")\n",
    "print \"Name of the file: \", fo.name\n",
    "\n",
    "line = fo.readline()\n",
    "print \"Read Line: %s\" % (line)\n",
    "\n",
    "# Set the pointer to the beginning\n",
    "fo.seek(0, 0)\n",
    "line = fo.readline()\n",
    "print \"Read Line: %s\" % (line)\n",
    "\n",
    "# Close opened file\n",
    "fo.close()\n",
    "```"
   ]
  },
  {
   "cell_type": "markdown",
   "metadata": {},
   "source": [
    "### Append\n",
    "\n",
    "* Example 1\n",
    "\n",
    "```python\n",
    "fh = open('hello.txt', 'a')  \n",
    "fh.write('We Meet Again World')  \n",
    "fh.close```\n",
    "\n",
    "* Example 2\n",
    "\n",
    "```python\n",
    "f=open(\"test3.txt\", \"a+\")\n",
    "for i in range(2):\n",
    "    f.write(\"Appended line %d\\r\\n\" % (i+1))\n",
    "f.close()```    "
   ]
  },
  {
   "cell_type": "markdown",
   "metadata": {},
   "source": [
    "***\n",
    "## IPython Writing a File ...\n",
    "#### This function is specific to jupyter notebooks! Alternatively, quickly create a simple .txt file with sublime text editor."
   ]
  },
  {
   "cell_type": "code",
   "execution_count": null,
   "metadata": {
    "scrolled": true
   },
   "outputs": [],
   "source": []
  },
  {
   "cell_type": "markdown",
   "metadata": {},
   "source": [
    "* English-language pangram.\n",
    " * a sentence that contains all of the letters of the alphabet. \n",
    "* It is commonly used for touch-typing practice, testing typewriters and computer keyboards, displaying examples of fonts, and other applications involving text where the use of all letters in the alphabet is desired. \n",
    "* Owing to its brevity and coherence, it has become widely known.\n",
    "* The earliest known appearance of the phrase is from The Boston Journal. \n",
    " * In an article titled \"Current Notes\" in the February 10, 1885, morning edition, the phrase is mentioned as a good practice sentence students.\n",
    "  \n",
    "  \n",
    "<img src=\"_images/test_txt.JPG\" align=\"left\"/>"
   ]
  },
  {
   "cell_type": "markdown",
   "metadata": {},
   "source": [
    "## Python Opening a file\n",
    "\n",
    "Let's being by opening the file test.txt that is located in the same directory as this notebook. For now we will work with files located in the same directory as the notebook or .py script you are using.\n",
    "\n",
    "It is very easy to get an error on this step:"
   ]
  },
  {
   "cell_type": "code",
   "execution_count": null,
   "metadata": {},
   "outputs": [],
   "source": []
  },
  {
   "cell_type": "markdown",
   "metadata": {},
   "source": [
    "To avoid this error,make sure your .txt file is saved in the same location as your notebook.  \n",
    "To check your notebook location, use **pwd**:"
   ]
  },
  {
   "cell_type": "code",
   "execution_count": null,
   "metadata": {},
   "outputs": [],
   "source": []
  },
  {
   "cell_type": "markdown",
   "metadata": {},
   "source": [
    "__Alternatively, to grab files from any location on your computer, simply pass in the entire file path.__  \n",
    "\n",
    "*  For Windows you need to use double \\ so python doesn't treat the second \\ as an escape character, a file path is in the form:\n",
    "###    myfile = open(\"C:<font color='red'>\\\\</font>\\Users <font color='red'>\\\\</font>\\YourUserName <font color='red'>\\\\</font>\\Home <font color='red'>\\\\</font>\\Folder <font color='red'>\\\\</font>\\myfile.txt\")  \n",
    "<br>   \n",
    "* For MacOS and Linux you use slashes in the opposite direction:\n",
    "###    myfile = open(\"/Users/YouUserName/Folder/myfile.txt\")"
   ]
  },
  {
   "cell_type": "code",
   "execution_count": null,
   "metadata": {
    "scrolled": true
   },
   "outputs": [],
   "source": [
    "# To display the docstring of the .open() method\n",
    "# Write \"my_file = open(\", and press <shift><TAB>\n",
    "my_file = open("
   ]
  },
  {
   "cell_type": "code",
   "execution_count": null,
   "metadata": {},
   "outputs": [],
   "source": [
    "# Open the text.txt we made earlier\n"
   ]
  },
  {
   "cell_type": "code",
   "execution_count": null,
   "metadata": {},
   "outputs": [],
   "source": [
    "# We can now read the file\n"
   ]
  },
  {
   "cell_type": "markdown",
   "metadata": {},
   "source": [
    "---\n",
    "# WARNING: \n",
    "\n",
    " * <font color='red'> In the case of  **GIGANTIC text** , we can exhaust our patience and __RAM__ resources when loading the file.</font>  \n",
    " * <font color='red'>The text will contain controll characters, like '\\n', because it is not interpreted in any way.\n",
    "</font>"
   ]
  },
  {
   "cell_type": "code",
   "execution_count": null,
   "metadata": {},
   "outputs": [],
   "source": [
    "# But what happens if we try to read it again?\n"
   ]
  },
  {
   "cell_type": "markdown",
   "metadata": {},
   "source": [
    "This happens because you can imagine the reading \"cursor\" is at the end of the file after having read it.  \n",
    "So there is nothing left to read.  \n",
    "We can reset the \"cursor\" like this:"
   ]
  },
  {
   "cell_type": "code",
   "execution_count": null,
   "metadata": {},
   "outputs": [],
   "source": [
    "# Seek to the start of file (index 0)\n"
   ]
  },
  {
   "cell_type": "code",
   "execution_count": null,
   "metadata": {},
   "outputs": [],
   "source": [
    "# Now read again\n"
   ]
  },
  {
   "cell_type": "code",
   "execution_count": null,
   "metadata": {},
   "outputs": [],
   "source": []
  },
  {
   "cell_type": "markdown",
   "metadata": {},
   "source": [
    "##  Read a file line by line using the _.readlines()_ method. "
   ]
  },
  {
   "cell_type": "code",
   "execution_count": null,
   "metadata": {},
   "outputs": [],
   "source": [
    "# Readlines returns a list of the lines in the file\n"
   ]
  },
  {
   "cell_type": "markdown",
   "metadata": {},
   "source": [
    "We received a list in which each element is one line of text"
   ]
  },
  {
   "cell_type": "markdown",
   "metadata": {},
   "source": [
    "### When you have finished using a file, it is always good practice to close it."
   ]
  },
  {
   "cell_type": "code",
   "execution_count": null,
   "metadata": {},
   "outputs": [],
   "source": []
  },
  {
   "cell_type": "markdown",
   "metadata": {},
   "source": [
    "### Another fancy way of processing text from a file"
   ]
  },
  {
   "cell_type": "code",
   "execution_count": null,
   "metadata": {},
   "outputs": [],
   "source": []
  },
  {
   "cell_type": "markdown",
   "metadata": {},
   "source": [
    "# Writing to a File\n",
    "\n",
    "* By default, the `open()` function will only allow us to read the file. \n",
    "* Pass the `'w'` mode to write over the file. "
   ]
  },
  {
   "cell_type": "code",
   "execution_count": null,
   "metadata": {},
   "outputs": [],
   "source": [
    "# Add a second argument to the function, 'w' which stands for write.\n",
    "# Passing 'w+' lets us read and write to the file\n",
    "\n"
   ]
  },
  {
   "cell_type": "markdown",
   "metadata": {},
   "source": [
    "### <string><font color='red'>Use caution!</font></string> \n",
    "Opening a file with `'w'` or `'w+'` truncates the original, meaning that anything that was in the original file **is deleted**!"
   ]
  },
  {
   "cell_type": "code",
   "execution_count": null,
   "metadata": {},
   "outputs": [],
   "source": [
    "# Write to the file\n"
   ]
  },
  {
   "cell_type": "code",
   "execution_count": null,
   "metadata": {},
   "outputs": [],
   "source": [
    "# Read the file\n"
   ]
  },
  {
   "cell_type": "code",
   "execution_count": null,
   "metadata": {},
   "outputs": [],
   "source": []
  },
  {
   "cell_type": "code",
   "execution_count": null,
   "metadata": {},
   "outputs": [],
   "source": []
  },
  {
   "cell_type": "code",
   "execution_count": null,
   "metadata": {},
   "outputs": [],
   "source": []
  },
  {
   "cell_type": "code",
   "execution_count": null,
   "metadata": {},
   "outputs": [],
   "source": []
  },
  {
   "cell_type": "markdown",
   "metadata": {},
   "source": [
    "## Appending to a File\n",
    "Passing the argument `'a'` opens the file and puts the pointer at the end, so anything written is appended. Like `'w+'`, `'a+'` lets us read and write to a file. If the file does not exist, one will be created."
   ]
  },
  {
   "cell_type": "code",
   "execution_count": null,
   "metadata": {},
   "outputs": [],
   "source": []
  },
  {
   "cell_type": "code",
   "execution_count": null,
   "metadata": {},
   "outputs": [],
   "source": []
  },
  {
   "cell_type": "code",
   "execution_count": null,
   "metadata": {},
   "outputs": [],
   "source": []
  },
  {
   "cell_type": "markdown",
   "metadata": {},
   "source": [
    "### Appending with `%%writefile`\n",
    "We can do the same thing using IPython cell magic:"
   ]
  },
  {
   "cell_type": "code",
   "execution_count": null,
   "metadata": {},
   "outputs": [],
   "source": []
  },
  {
   "cell_type": "code",
   "execution_count": null,
   "metadata": {},
   "outputs": [],
   "source": []
  },
  {
   "cell_type": "markdown",
   "metadata": {},
   "source": [
    "Add a blank space if you want the first line to begin on its own line, as Jupyter won't recognize escape sequences like `\\n`"
   ]
  },
  {
   "cell_type": "markdown",
   "metadata": {},
   "source": [
    "## Iterating through a File\n",
    "\n",
    "Lets get a quick preview of a for loop by iterating over a text file. First let's make a new text file with some IPython Magic:"
   ]
  },
  {
   "cell_type": "code",
   "execution_count": null,
   "metadata": {},
   "outputs": [],
   "source": []
  },
  {
   "cell_type": "markdown",
   "metadata": {},
   "source": [
    "Now we can use a little bit of flow to tell the program to for through every line of the file and do something.  \n",
    "Notice the indent on the second line for print. This whitespace is required in Python."
   ]
  },
  {
   "cell_type": "code",
   "execution_count": null,
   "metadata": {},
   "outputs": [],
   "source": []
  },
  {
   "cell_type": "markdown",
   "metadata": {},
   "source": [
    "Don't worry about fully understanding this yet, for loops are coming up soon. But we'll break down what we did above. We said that for every line in this text file, go ahead and print that line. It's important to note a few things here:\n",
    "\n",
    "* The \"line\" object can be named completely arbitrarily, only the script's syntax matters\n",
    "* By not calling `.read()` on the file, the whole text file was not stored in memory."
   ]
  },
  {
   "cell_type": "code",
   "execution_count": null,
   "metadata": {},
   "outputs": [],
   "source": [
    "# Pertaining to the first point above\n"
   ]
  }
 ],
 "metadata": {
  "kernelspec": {
   "display_name": "Python 3",
   "language": "python",
   "name": "python3"
  },
  "language_info": {
   "codemirror_mode": {
    "name": "ipython",
    "version": 3
   },
   "file_extension": ".py",
   "mimetype": "text/x-python",
   "name": "python",
   "nbconvert_exporter": "python",
   "pygments_lexer": "ipython3",
   "version": "3.7.7"
  }
 },
 "nbformat": 4,
 "nbformat_minor": 1
}
