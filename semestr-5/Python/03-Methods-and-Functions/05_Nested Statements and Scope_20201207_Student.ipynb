{
 "cells": [
  {
   "cell_type": "markdown",
   "metadata": {},
   "source": [
    "# Nested Statements and Scope \n",
    "\n",
    "* How Python deals with the variable names. \n",
    "* **name-space**\n",
    "* **scope** - a set of rules that determine the visibility of every variable name to other parts of your code."
   ]
  },
  {
   "cell_type": "code",
   "execution_count": null,
   "metadata": {},
   "outputs": [],
   "source": []
  },
  {
   "cell_type": "markdown",
   "metadata": {},
   "source": [
    "* What is the output of print x? "
   ]
  },
  {
   "cell_type": "markdown",
   "metadata": {},
   "source": [
    "How does Python know to which **x** refers the code?  \n",
    "* **scope** - a set of rules that determine the visibility of every variable name to other parts of your code."
   ]
  },
  {
   "cell_type": "markdown",
   "metadata": {
    "collapsed": true
   },
   "source": [
    "The idea of scope is very important to understand in order to properly assign and call variable names. \n",
    "\n",
    "In simple terms, the idea of scope can be described by 3 general rules:\n",
    "\n",
    "1. Name assignments will create or change local names by default.\n",
    "2. Name references search (at most) four scopes, these are **LEGB Rule:**\n",
    "   * **L: Local** — Names assigned in any way within a function (def or lambda), and not declared global in that function.\n",
    "   * **E: Enclosing** function locals — Names in the local scope of any and all enclosing functions (def or lambda), from inner to outer.\n",
    "   * **G: Global (module)** — Names assigned at the top-level of a module file, or declared global in a def within the file.\n",
    "   * **B: Built-in (Python)** — Names preassigned in the built-in names module : open, range, SyntaxError,...\n"
   ]
  },
  {
   "cell_type": "markdown",
   "metadata": {},
   "source": [
    "# Quick examples of LEGB\n",
    "\n",
    "## Local"
   ]
  },
  {
   "cell_type": "code",
   "execution_count": null,
   "metadata": {},
   "outputs": [],
   "source": []
  },
  {
   "cell_type": "markdown",
   "metadata": {},
   "source": [
    "## Enclosing function locals\n",
    "    Function inside a function (nested functions)"
   ]
  },
  {
   "cell_type": "code",
   "execution_count": null,
   "metadata": {},
   "outputs": [],
   "source": []
  },
  {
   "cell_type": "markdown",
   "metadata": {},
   "source": [
    "**Note:** The hello() function was enclosed inside of the greet function!"
   ]
  },
  {
   "cell_type": "markdown",
   "metadata": {},
   "source": [
    "## Global\n",
    "    Luckily in Jupyter  \n",
    "    a quick way to test for global variables is to see if another cell recognizes the variable!"
   ]
  },
  {
   "cell_type": "code",
   "execution_count": null,
   "metadata": {},
   "outputs": [],
   "source": []
  },
  {
   "cell_type": "markdown",
   "metadata": {},
   "source": [
    "## Built-in\n",
    "    These are the built-in function names in Python (don't overwrite these!)"
   ]
  },
  {
   "cell_type": "code",
   "execution_count": null,
   "metadata": {},
   "outputs": [],
   "source": []
  },
  {
   "cell_type": "markdown",
   "metadata": {},
   "source": [
    "# SCOPE: <code>Local / global</code>  \n",
    "* This is called the scope of the variable. \n",
    "* All variables have the scope of the block they are declared in starting from the point of definition of the name."
   ]
  },
  {
   "cell_type": "markdown",
   "metadata": {},
   "source": [
    "## Local Variables\n",
    "* Variables declared inside a function definition - names are local to the function. \n",
    "* Not related in any way to other variables with the same names, used outside the function - \n"
   ]
  },
  {
   "cell_type": "code",
   "execution_count": null,
   "metadata": {},
   "outputs": [],
   "source": []
  },
  {
   "cell_type": "markdown",
   "metadata": {},
   "source": [
    "The first time that we print the value of the name **x** with the first line in the function’s body, Python uses the value of the parameter declared in the main block, above the function definition.\n",
    "\n",
    "Next, we assign the value 2 to **x**. The name **x** is local to our function. So, when we change the value of **x** in the function, the **x** defined in the main block remains unaffected.\n",
    "\n",
    "With the last print statement, we display the value of **x** as defined in the main block, thereby confirming that it is actually unaffected by the local assignment within the previously called function."
   ]
  },
  {
   "cell_type": "markdown",
   "metadata": {},
   "source": [
    "## Global statement\n",
    "* Use a value of a name defined at the top level of the program \n",
    "    * i.e. not inside any kind of scope such as functions or classes,\n",
    "    * assuming there is no variable with the same name within the function.\n",
    "* <code>global _name_</code> - tells Python that the _name_ is not local, but it is global\".\n",
    "* More than one global variable can be specified using the same global statement:\n",
    "    * <code>global x, y, z</code>.\n",
    "* It is impossible to assign a value to a variable defined outside a function without the global statement."
   ]
  },
  {
   "cell_type": "code",
   "execution_count": null,
   "metadata": {},
   "outputs": [],
   "source": []
  }
 ],
 "metadata": {
  "kernelspec": {
   "display_name": "Python 3",
   "language": "python",
   "name": "python3"
  },
  "language_info": {
   "codemirror_mode": {
    "name": "ipython",
    "version": 3
   },
   "file_extension": ".py",
   "mimetype": "text/x-python",
   "name": "python",
   "nbconvert_exporter": "python",
   "pygments_lexer": "ipython3",
   "version": "3.7.7"
  }
 },
 "nbformat": 4,
 "nbformat_minor": 1
}
