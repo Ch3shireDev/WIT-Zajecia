{
 "cells": [
  {
   "cell_type": "markdown",
   "metadata": {},
   "source": [
    "# Introduction to Functions\n",
    "\n",
    "* Functions make up the main building blocks when we construct larger and larger amounts of code to solve problems.\n",
    "\n",
    "**So what is a function?**\n",
    "\n",
    "* Functions:\n",
    "> - sets of statements grouped together so they can be run more than once, \n",
    "> - may specify parameters that can serve as inputs to the functions,\n",
    "> - are one of most basic levels of reusing code in Python,\n",
    "> - allow to start thinking of program design.\n",
    "\n",
    "* The syntax format of <code>function declaration</code>\n",
    "```python\n",
    "    def name_of_function(arg1,arg2):\n",
    "    '''\n",
    "    Function's Document String (docstring)\n",
    "    '''\n",
    "    # Do stuff here\n",
    "    # Return desired result\n",
    "```    \n",
    "\n",
    "## Arbitrary number of arguments\n",
    "   * Argument name is an arbitrary choice.\n",
    "   * By convention we should always use <code>args</code> and <code>kwargs</code> names  \n",
    "   \n",
    " ###  `*args` \n",
    "  * parameter name starts with an asterisk \n",
    "  * allows for an arbitrary number of anonymous arguments,\n",
    "  * function takes them in as a **tuple of values**. \n",
    "\n",
    " ###  `**kwargs`\n",
    "  * parameter name starts with two asterisks\n",
    "  * allows for an arbitrary number of keyworded arguments\n",
    "  * function takes them in as a **dictionary of key/value pairs**."
   ]
  },
  {
   "cell_type": "markdown",
   "metadata": {},
   "source": [
    "# Function\n",
    "\n",
    "#### Begin with <code>def</code> then a space followed by the name of the function:\n",
    "   * Try to keep names relevant, for example lnth() is a good name for a length() function. \n",
    "   * Be careful with names, you wouldn't want to call a function the same name as a [built-in function in Python](https://docs.python.org/2/library/functions.html) (such as len).  \n",
    "\n",
    "#### Pair of parentheses with a number of arguments separated by a comma: \n",
    "  * These arguments are the inputs for your function. \n",
    " * Use and reference them in your function. \n",
    "\n",
    "* Put a colon to end the declaration.\n",
    "\n",
    "#### Indent to begin the code inside function: \n",
    "  * Python makes use of *whitespace* to organize code. \n",
    "  * Lots of other programing languages do not do this!.\n",
    "\n",
    "#### Write the docstring:\n",
    "  * Basic description of the function. \n",
    "  * Using iPython, iPython Notebooks or other IDE, it will be accessible by pressing Shift+Tab after a function name. \n",
    "  * Docstrings are not necessary for simple functions.\n",
    "  * It's good practice to put them in to make the code understandable.\n",
    "\n",
    "#### Write the code to be executed.\n",
    "\n",
    "#### Return desired result\n",
    "  * As soon as a function returns something, it shuts down. \n",
    "  * A function can deliver multiple output values, but it will only obey one return."
   ]
  },
  {
   "cell_type": "markdown",
   "metadata": {},
   "source": [
    "### Example 1: A simple print 'hello' function"
   ]
  },
  {
   "cell_type": "code",
   "execution_count": null,
   "metadata": {},
   "outputs": [],
   "source": []
  },
  {
   "cell_type": "markdown",
   "metadata": {},
   "source": [
    "Call the function:"
   ]
  },
  {
   "cell_type": "code",
   "execution_count": null,
   "metadata": {},
   "outputs": [],
   "source": [
    "say_hello()"
   ]
  },
  {
   "cell_type": "markdown",
   "metadata": {},
   "source": [
    "### Example 2: A simple greeting function\n",
    "Let's write a function that greets people with their name."
   ]
  },
  {
   "cell_type": "code",
   "execution_count": null,
   "metadata": {},
   "outputs": [],
   "source": []
  },
  {
   "cell_type": "code",
   "execution_count": null,
   "metadata": {},
   "outputs": [],
   "source": [
    "greeting('Rafal')"
   ]
  },
  {
   "cell_type": "code",
   "execution_count": null,
   "metadata": {},
   "outputs": [],
   "source": [
    "greeting()"
   ]
  },
  {
   "cell_type": "code",
   "execution_count": null,
   "metadata": {},
   "outputs": [],
   "source": [
    "# define the default value of the argument\n",
    "\n"
   ]
  },
  {
   "cell_type": "code",
   "execution_count": null,
   "metadata": {},
   "outputs": [],
   "source": [
    "greeting()"
   ]
  },
  {
   "cell_type": "code",
   "execution_count": null,
   "metadata": {},
   "outputs": [],
   "source": [
    "greeting('Rafal')"
   ]
  },
  {
   "cell_type": "code",
   "execution_count": null,
   "metadata": {},
   "outputs": [],
   "source": []
  },
  {
   "cell_type": "markdown",
   "metadata": {},
   "source": [
    "## Using return\n",
    "* <code>return</code> allows a function to *return* a result.  \n",
    "* Can be stored as a variable, or used in whatever manner a user wants.\n",
    "\n",
    "### Example 3: Adding function"
   ]
  },
  {
   "cell_type": "code",
   "execution_count": null,
   "metadata": {},
   "outputs": [],
   "source": []
  },
  {
   "cell_type": "code",
   "execution_count": null,
   "metadata": {},
   "outputs": [],
   "source": [
    "add_num(9,5)"
   ]
  },
  {
   "cell_type": "code",
   "execution_count": null,
   "metadata": {},
   "outputs": [],
   "source": [
    "# Can also save as variable due to return\n",
    "result = add_num(9,5)\n",
    "\n",
    "print(result)"
   ]
  },
  {
   "cell_type": "markdown",
   "metadata": {},
   "source": [
    "#### ... but what happens if we input two strings?  \n",
    "\n",
    "Remember that because we don't declare variable types in Python, this function could be used to add numbers or sequences together!  \n",
    "We may add checks to make sure a user puts in the correct arguments into a function."
   ]
  },
  {
   "cell_type": "code",
   "execution_count": null,
   "metadata": {},
   "outputs": [],
   "source": [
    "add_num('one','two')"
   ]
  },
  {
   "cell_type": "markdown",
   "metadata": {},
   "source": [
    "## Let's make some conditions\n",
    "Use <code>break</code>, <code>continue</code>, and <code>pass</code> statements in our code. \n",
    "\n",
    "### Example 4: Check prime value "
   ]
  },
  {
   "cell_type": "code",
   "execution_count": null,
   "metadata": {},
   "outputs": [],
   "source": [
    "# We know a number is prime if that number is only evenly divisible by 1 and itself.\n",
    "# Let's write our first version of the function to check all the numbers from 1 to N\n",
    "# and perform modulo checks.\n",
    "#\n",
    "# Use the for loop to exhaust all possibilities in the range before printing our number is prime.\n",
    "# As soon as we determine that a number is not prime we break out of the for loop.\n",
    "\n"
   ]
  },
  {
   "cell_type": "code",
   "execution_count": null,
   "metadata": {},
   "outputs": [],
   "source": [
    "is_prime(16)"
   ]
  },
  {
   "cell_type": "code",
   "execution_count": null,
   "metadata": {},
   "outputs": [],
   "source": [
    "is_prime(17)"
   ]
  },
  {
   "cell_type": "markdown",
   "metadata": {},
   "source": [
    "## Improved version of <code>is_prime</code> function:\n",
    ">* Checking to the square root of the target number.\n",
    ">* Disregarding all even numbers after checking for 2.\n",
    ">* Also switch to returning a boolean value to get an example of using return statements.\n",
    "\n",
    "### EXAMPLE:\n",
    ">* The square root of <code>100</code> is <code>10</code>. \n",
    ">* Let's say **a x b = 100**, for various pairs of **a** and **b**.\n",
    ">* If **a == b**, then they are equal, and are the square root of 100, exactly. Which is 10.\n",
    ">* If one of them is less than 10, the other has to be greater. For example, 5 x 20 == 100. One is greater than 10, the other is less than 10.\n"
   ]
  },
  {
   "cell_type": "code",
   "execution_count": null,
   "metadata": {},
   "outputs": [],
   "source": [
    "# Improved version of is_prime function:\n",
    "# Checking to the square root of the target number.\n",
    "# Disregarding all even numbers after checking for 2.\n",
    "#\n",
    "# Switch to returning a boolean value to get an example of using return statements.\n",
    "\n",
    "import math\n",
    "\n",
    "def is_prime2(num):\n",
    "    '''\n",
    "    Better method of checking for primes. \n",
    "    '''\n"
   ]
  },
  {
   "cell_type": "code",
   "execution_count": null,
   "metadata": {},
   "outputs": [],
   "source": [
    "is_prime2(18)"
   ]
  },
  {
   "cell_type": "markdown",
   "metadata": {},
   "source": [
    "### Example 4: Find substring in the string"
   ]
  },
  {
   "cell_type": "code",
   "execution_count": null,
   "metadata": {},
   "outputs": [],
   "source": [
    "# Find substring in the string\n",
    "# Basic version\n",
    "\n"
   ]
  },
  {
   "cell_type": "code",
   "execution_count": null,
   "metadata": {},
   "outputs": [],
   "source": [
    "substr_check('kot', 'Ala ma kota')"
   ]
  },
  {
   "cell_type": "code",
   "execution_count": null,
   "metadata": {},
   "outputs": [],
   "source": [
    "substr_check('pies', 'Ala ma kota')"
   ]
  },
  {
   "cell_type": "code",
   "execution_count": null,
   "metadata": {},
   "outputs": [],
   "source": [
    "substr_check('KOT', 'Ala ma kota')"
   ]
  },
  {
   "cell_type": "code",
   "execution_count": null,
   "metadata": {},
   "outputs": [],
   "source": [
    "# Find substring in the string\n",
    "# Short version\n",
    "\n"
   ]
  },
  {
   "cell_type": "code",
   "execution_count": null,
   "metadata": {},
   "outputs": [],
   "source": [
    "substr_check('KOT', 'Ala ma kota')"
   ]
  },
  {
   "cell_type": "code",
   "execution_count": null,
   "metadata": {},
   "outputs": [],
   "source": [
    "substr_check('pies', 'Ala ma kota')"
   ]
  },
  {
   "cell_type": "markdown",
   "metadata": {},
   "source": [
    "### Example 4: Language translator\n",
    "\n",
    "Create function for translating words from English to PIG LATIN\n",
    "* If word starts with a vowel add '**ay**' to its end\n",
    "  * EXAMPLE: 'apple' -> 'appleay'  \n",
    "  \n",
    "  \n",
    "* else put first letter at the end, add '**ay**'\n",
    "  * EXAMPLE: 'word' -> 'ordway'\n"
   ]
  },
  {
   "cell_type": "code",
   "execution_count": null,
   "metadata": {},
   "outputs": [],
   "source": [
    "   "
   ]
  },
  {
   "cell_type": "code",
   "execution_count": null,
   "metadata": {},
   "outputs": [],
   "source": [
    "my_word = 'apple'\n",
    "print(f'{my_word} -> {pig_latin(my_word)}') \n",
    "\n",
    "my_word = 'word'\n",
    "print(f'{my_word} -> {pig_latin(my_word)}') "
   ]
  },
  {
   "cell_type": "markdown",
   "metadata": {},
   "source": [
    "---\n",
    "###  `*args` \n",
    "  * parameter name starts with an asterisk \n",
    "  * allows for an arbitrary number of anonymous arguments,\n",
    "  * function takes them in as a **tuple of values**. \n",
    "\n",
    "###  `**kwargs`\n",
    "  * parameter name starts with two asterisks\n",
    "  * allows for an arbitrary number of keyworded arguments\n",
    "  * function takes them in as a **dictionary of key/value pairs**."
   ]
  },
  {
   "cell_type": "code",
   "execution_count": null,
   "metadata": {},
   "outputs": [],
   "source": [
    "# Create  a function that sums TWO positional arguments \n",
    "# and returns 5% of the sum\n",
    "\n"
   ]
  },
  {
   "cell_type": "code",
   "execution_count": null,
   "metadata": {},
   "outputs": [],
   "source": [
    "five_prcnt(5,5)"
   ]
  },
  {
   "cell_type": "markdown",
   "metadata": {},
   "source": [
    "### Using <code>\\*args</code>"
   ]
  },
  {
   "cell_type": "code",
   "execution_count": null,
   "metadata": {},
   "outputs": [],
   "source": [
    "# Create  a function that sums arbitrary number of arguments\n",
    "# and returns 5% of the sum\n",
    "\n",
    "\n"
   ]
  },
  {
   "cell_type": "code",
   "execution_count": null,
   "metadata": {},
   "outputs": [],
   "source": [
    "print(five_prcnt(10))\n",
    "print(five_prcnt(10,20))\n",
    "print(five_prcnt(10,20,5))\n",
    "print(five_prcnt(10,20,5,8.5))"
   ]
  },
  {
   "cell_type": "code",
   "execution_count": null,
   "metadata": {},
   "outputs": [],
   "source": [
    "# Chek the*args argument\n",
    "# Name is an arbitrary choice.\n",
    "# By convention we should always use \"args\" name\n",
    "\n"
   ]
  },
  {
   "cell_type": "code",
   "execution_count": null,
   "metadata": {},
   "outputs": [],
   "source": [
    "print(five_prcnt(10))\n",
    "print(five_prcnt(10,20))\n",
    "print(five_prcnt(10,20,5))\n",
    "print(five_prcnt(10,20,5,8.5))"
   ]
  },
  {
   "cell_type": "markdown",
   "metadata": {},
   "source": [
    "### Using <code>**kwargs</code>"
   ]
  },
  {
   "cell_type": "code",
   "execution_count": null,
   "metadata": {},
   "outputs": [],
   "source": []
  },
  {
   "cell_type": "code",
   "execution_count": null,
   "metadata": {},
   "outputs": [],
   "source": []
  },
  {
   "cell_type": "code",
   "execution_count": null,
   "metadata": {},
   "outputs": [],
   "source": []
  },
  {
   "cell_type": "code",
   "execution_count": null,
   "metadata": {},
   "outputs": [],
   "source": []
  },
  {
   "cell_type": "code",
   "execution_count": null,
   "metadata": {},
   "outputs": [],
   "source": []
  },
  {
   "cell_type": "markdown",
   "metadata": {},
   "source": [
    "### Using <code>\\*args</code> & <code>**kwargs</code> together"
   ]
  },
  {
   "cell_type": "code",
   "execution_count": null,
   "metadata": {},
   "outputs": [],
   "source": []
  },
  {
   "cell_type": "code",
   "execution_count": null,
   "metadata": {},
   "outputs": [],
   "source": [
    "myfun(10,20,30,fruit='apple',meat = 'lamb', vegetable = 'broccoli')"
   ]
  },
  {
   "cell_type": "code",
   "execution_count": null,
   "metadata": {},
   "outputs": [],
   "source": [
    "# Placing keyworded arguments ahead of positional arguments raises an exception:\n",
    "\n",
    "myfun(10, fruit='apple', meat = 'lamb', 20, 30, vegetable = 'broccoli')"
   ]
  },
  {
   "cell_type": "markdown",
   "metadata": {},
   "source": [
    "# Coding Exercise"
   ]
  },
  {
   "cell_type": "markdown",
   "metadata": {},
   "source": [
    "## Exercise 1: Hello function\n",
    "- Define a function **myfunc** that prints the string 'Hello World."
   ]
  },
  {
   "cell_type": "code",
   "execution_count": null,
   "metadata": {},
   "outputs": [],
   "source": [
    "def myfunc():\n",
    "    pass"
   ]
  },
  {
   "cell_type": "code",
   "execution_count": null,
   "metadata": {},
   "outputs": [],
   "source": [
    "myfunc()"
   ]
  },
  {
   "cell_type": "markdown",
   "metadata": {},
   "source": [
    "## Exercise 2: Hello Name function\n",
    "- Define a function **myfunc** that takes in a <code>name</code>, and prints 'Hello <code>name</code>."
   ]
  },
  {
   "cell_type": "code",
   "execution_count": null,
   "metadata": {},
   "outputs": [],
   "source": [
    "def myfunc(name):\n",
    "    pass"
   ]
  },
  {
   "cell_type": "code",
   "execution_count": null,
   "metadata": {},
   "outputs": [],
   "source": [
    "myfunc('Rafal')"
   ]
  },
  {
   "cell_type": "markdown",
   "metadata": {},
   "source": [
    "## Exercise 3: Simple Boolean\n",
    "- Define a function **myfunc** that takes in a Boolean value (True or False):  \n",
    "  - if True  -return \"Hello',\n",
    "  - if False -return 'Goodbye'."
   ]
  },
  {
   "cell_type": "code",
   "execution_count": null,
   "metadata": {},
   "outputs": [],
   "source": [
    "def myfunc(b):\n",
    "    pass"
   ]
  },
  {
   "cell_type": "code",
   "execution_count": null,
   "metadata": {},
   "outputs": [],
   "source": [
    "myfunc(True)"
   ]
  },
  {
   "cell_type": "markdown",
   "metadata": {},
   "source": [
    "## Exercise 4: Boolean decision\n",
    "- Define a function **myfunc** that takes three arguments: x, y, z:  \n",
    "  - if z is True  -return x,\n",
    "  - if z is False -return y."
   ]
  },
  {
   "cell_type": "code",
   "execution_count": null,
   "metadata": {},
   "outputs": [],
   "source": [
    "def myfunc(x,y,z):\n",
    "    pass"
   ]
  },
  {
   "cell_type": "code",
   "execution_count": null,
   "metadata": {},
   "outputs": [],
   "source": [
    "myfunc('Ala','Ola',False)"
   ]
  },
  {
   "cell_type": "markdown",
   "metadata": {},
   "source": [
    "## Exercise 5: simple math\n",
    "- Define a function **myfunc** that takes in two arguments and returns their sum.  "
   ]
  },
  {
   "cell_type": "code",
   "execution_count": null,
   "metadata": {},
   "outputs": [],
   "source": [
    "def myfunc(a,b):\n",
    "    pass"
   ]
  },
  {
   "cell_type": "code",
   "execution_count": null,
   "metadata": {},
   "outputs": [],
   "source": [
    "myfunc(5,9)"
   ]
  },
  {
   "cell_type": "markdown",
   "metadata": {},
   "source": [
    "## Exercise 6: is even\n",
    "- Define a function **myfunc** that takes in one argument and returns True the value is even or False in the other case.  "
   ]
  },
  {
   "cell_type": "code",
   "execution_count": null,
   "metadata": {},
   "outputs": [],
   "source": [
    "def myfunc(x):\n",
    "    pass"
   ]
  },
  {
   "cell_type": "code",
   "execution_count": null,
   "metadata": {},
   "outputs": [],
   "source": [
    "myfunc(4)"
   ]
  },
  {
   "cell_type": "markdown",
   "metadata": {},
   "source": [
    "## Exercise 7: is greater\n",
    "- Define a function **myfunc** that takes in two arguments and returns True the first value is greater than the second, or False in the other case.  "
   ]
  },
  {
   "cell_type": "code",
   "execution_count": null,
   "metadata": {},
   "outputs": [],
   "source": [
    "def myfunc(a,b):\n",
    "    pass"
   ]
  },
  {
   "cell_type": "code",
   "execution_count": null,
   "metadata": {},
   "outputs": [],
   "source": [
    "myfunc(6,8)"
   ]
  },
  {
   "cell_type": "markdown",
   "metadata": {},
   "source": [
    "## Exercise 8: \\*args\n",
    "- Define a function **myfunc** that takes in an arbitrary number of arguments, and returns the **sum** of them."
   ]
  },
  {
   "cell_type": "code",
   "execution_count": null,
   "metadata": {},
   "outputs": [],
   "source": [
    "def myfunc(*args):\n",
    "    pass"
   ]
  },
  {
   "cell_type": "code",
   "execution_count": null,
   "metadata": {},
   "outputs": [],
   "source": [
    "myfunc(1,2,3,4,5)"
   ]
  },
  {
   "cell_type": "markdown",
   "metadata": {},
   "source": [
    "## Exercise 9: pick evens\n",
    "- Define a function **myfunc** that takes in an arbitrary number of arguments, and returns a list containing only those arguments that are even."
   ]
  },
  {
   "cell_type": "code",
   "execution_count": null,
   "metadata": {},
   "outputs": [],
   "source": [
    "def myfunc(*args):\n",
    "    pass"
   ]
  },
  {
   "cell_type": "code",
   "execution_count": null,
   "metadata": {},
   "outputs": [],
   "source": [
    "myfunc(1,2,3,4,5)"
   ]
  },
  {
   "cell_type": "markdown",
   "metadata": {},
   "source": [
    "## Exercise 10: skyline\n",
    "- Define a function **myfunc** that takes in a string, and returns a matching string where every even letter is uppercase, and every odd letter is lowercase.  \n",
    "- Assume that the incoming string only contains letters.  "
   ]
  },
  {
   "cell_type": "code",
   "execution_count": null,
   "metadata": {},
   "outputs": [],
   "source": [
    "def myfunc(arg_str):\n",
    "    pass      "
   ]
  },
  {
   "cell_type": "code",
   "execution_count": null,
   "metadata": {},
   "outputs": [],
   "source": [
    "myfunc('Anthropomorphism')"
   ]
  },
  {
   "cell_type": "code",
   "execution_count": null,
   "metadata": {},
   "outputs": [],
   "source": []
  }
 ],
 "metadata": {
  "kernelspec": {
   "display_name": "Python 3",
   "language": "python",
   "name": "python3"
  },
  "language_info": {
   "codemirror_mode": {
    "name": "ipython",
    "version": 3
   },
   "file_extension": ".py",
   "mimetype": "text/x-python",
   "name": "python",
   "nbconvert_exporter": "python",
   "pygments_lexer": "ipython3",
   "version": "3.7.3"
  }
 },
 "nbformat": 4,
 "nbformat_minor": 1
}
